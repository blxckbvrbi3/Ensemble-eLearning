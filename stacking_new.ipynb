{
 "cells": [
  {
   "cell_type": "code",
   "execution_count": 17,
   "metadata": {},
   "outputs": [],
   "source": [
    "from sklearn.datasets import load_diabetes\n",
    "from sklearn.model_selection import train_test_split\n",
    "from sklearn.linear_model import LinearRegression\n",
    "from sklearn.neighbors import KNeighborsRegressor\n",
    "from sklearn.svm import SVR\n",
    "from sklearn.ensemble import RandomForestRegressor, StackingRegressor\n",
    "from sklearn.metrics import mean_squared_error\n",
    "import timeit\n",
    "import time\n",
    "X, y = load_diabetes(return_X_y=True)\n",
    "X_train, X_test, y_train, y_test = train_test_split(X, y, random_state=42)"
   ]
  },
  {
   "cell_type": "code",
   "execution_count": 18,
   "metadata": {},
   "outputs": [],
   "source": [
    "base_models = [\n",
    "    ('KNN', KNeighborsRegressor()),\n",
    "    ('SVR',SVR()),\n",
    "    ('Random Forest',RandomForestRegressor()),\n",
    "    ('Linear Regression',LinearRegression()),\n",
    "    ]\n",
    "stacked = StackingRegressor(\n",
    "    estimators = base_models,\n",
    "    final_estimator = LinearRegression(),\n",
    "    cv = 5)"
   ]
  },
  {
   "cell_type": "code",
   "execution_count": 19,
   "metadata": {},
   "outputs": [
    {
     "name": "stdout",
     "output_type": "stream",
     "text": [
      "-------KNN-------\n",
      "Coefficient of determination: 0.44659346214225026\n",
      "Root Mean Squared Error: 55.31877155619498\n",
      "Computation Time: 0.009633064270019531\n",
      "----------------------------------\n",
      "\n",
      "-------SVR-------\n",
      "Coefficient of determination: 0.18406600687736463\n",
      "Root Mean Squared Error: 67.17039435298078\n",
      "Computation Time: 0.01780080795288086\n",
      "----------------------------------\n",
      "\n",
      "-------Random Forest-------\n",
      "Coefficient of determination: 0.4717312608089075\n",
      "Root Mean Squared Error: 54.04777754596073\n",
      "Computation Time: 0.1543407440185547\n",
      "----------------------------------\n",
      "\n",
      "-------Linear Regression-------\n",
      "Coefficient of determination: 0.4849086635905804\n",
      "Root Mean Squared Error: 53.3694229679593\n",
      "Computation Time: 0.009743928909301758\n",
      "----------------------------------\n",
      "\n",
      "-------Stacked Ensemble-------\n",
      "Coefficient of determination: 0.49961285915221976\n",
      "Root Mean Squared Error: 52.60214508695752\n",
      "Computation Time: 1.0364899635314941\n",
      "----------------------------------\n"
     ]
    }
   ],
   "source": [
    "for name, model in base_models:\n",
    "    start_time = time.time()\n",
    "    model.fit(X_train, y_train)\n",
    "    prediction = model.predict(X_test)\n",
    "    end_time = time.time()\n",
    "    \n",
    "    r2 = model.score(X_test, y_test)\n",
    "    rmse = mean_squared_error(y_test, prediction, squared = False)\n",
    "    \n",
    "    print(\"-------{}-------\".format(name))\n",
    "    print(\"Coefficient of determination: {}\".format(r2))\n",
    "    print(\"Root Mean Squared Error: {}\".format(rmse))\n",
    "    print(\"Computation Time: {}\".format(end_time - start_time))\n",
    "    print(\"----------------------------------\\n\")\n",
    "start_time = time.time()\n",
    "stacked.fit(X_train, y_train)    \n",
    "stacked_prediction = stacked.predict(X_test)\n",
    "end_time = time.time()\n",
    "stacked_r2 = stacked.score(X_test, y_test)\n",
    "stacked_rmse = mean_squared_error(y_test, stacked_prediction, squared = False)\n",
    "print(\"-------Stacked Ensemble-------\")\n",
    "print(\"Coefficient of determination: {}\".format(stacked_r2))\n",
    "print(\"Root Mean Squared Error: {}\".format(stacked_rmse))\n",
    "print(\"Computation Time: {}\".format(end_time - start_time))\n",
    "print(\"----------------------------------\")"
   ]
  },
  {
   "cell_type": "markdown",
   "metadata": {},
   "source": [
    "Takeaway:\n",
    "\n",
    "We can see here that although the stacking method takes longer to computer in comparison to the other methods, it provides a lower root mean squared error, which means that it is a lot more accurate than the individual models."
   ]
  }
 ],
 "metadata": {
  "kernelspec": {
   "display_name": "Python 3.9.12 ('base')",
   "language": "python",
   "name": "python3"
  },
  "language_info": {
   "codemirror_mode": {
    "name": "ipython",
    "version": 3
   },
   "file_extension": ".py",
   "mimetype": "text/x-python",
   "name": "python",
   "nbconvert_exporter": "python",
   "pygments_lexer": "ipython3",
   "version": "3.9.12"
  },
  "orig_nbformat": 4,
  "vscode": {
   "interpreter": {
    "hash": "40d3a090f54c6569ab1632332b64b2c03c39dcf918b08424e98f38b5ae0af88f"
   }
  }
 },
 "nbformat": 4,
 "nbformat_minor": 2
}
